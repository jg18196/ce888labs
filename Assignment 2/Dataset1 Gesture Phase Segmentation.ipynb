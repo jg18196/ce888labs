{
 "cells": [
  {
   "cell_type": "code",
   "execution_count": 1,
   "metadata": {},
   "outputs": [],
   "source": [
    "%matplotlib inline\n",
    "import pandas as pd\n",
    "\n",
    "import numpy as np\n",
    "\n",
    "from sklearn.model_selection import train_test_split\n",
    "from sklearn import model_selection, metrics\n",
    "from sklearn import preprocessing\n",
    "from sklearn.utils import shuffle\n",
    "from sklearn.preprocessing import StandardScaler\n",
    "\n",
    "import matplotlib\n",
    "import matplotlib.pyplot as plt"
   ]
  },
  {
   "cell_type": "markdown",
   "metadata": {},
   "source": [
    "### Changing Directory to Desktop Where The Dataset is Located"
   ]
  },
  {
   "cell_type": "code",
   "execution_count": 2,
   "metadata": {},
   "outputs": [],
   "source": [
    "import os\n",
    "os.chdir('C:\\\\Users\\\\julie\\\\Desktop')"
   ]
  },
  {
   "cell_type": "markdown",
   "metadata": {},
   "source": [
    "### Reading From the CSV Files Provided From The Dataset"
   ]
  },
  {
   "cell_type": "code",
   "execution_count": 3,
   "metadata": {},
   "outputs": [],
   "source": [
    "csv_filename01=\"./Dataset/a1_raw.csv\"\n",
    "csv_filename02=\"./Dataset/a1_va3.csv\"\n",
    "csv_filename03=\"./Dataset/a2_raw.csv\"\n",
    "csv_filename04=\"./Dataset/a2_va3.csv\"\n",
    "csv_filename05=\"./Dataset/a3_raw.csv\"\n",
    "csv_filename06=\"./Dataset/a3_va3.csv\"\n",
    "\n",
    "csv_filename07=\"./Dataset/b1_raw.csv\"\n",
    "csv_filename08=\"./Dataset/b1_va3.csv\"\n",
    "csv_filename09=\"./Dataset/b3_raw.csv\"\n",
    "csv_filename10=\"./Dataset/b3_va3.csv\"\n",
    "\n",
    "csv_filename11=\"./Dataset/c1_raw.csv\"\n",
    "csv_filename12=\"./Dataset/c1_va3.csv\"\n",
    "csv_filename13=\"./Dataset/c3_raw.csv\"\n",
    "csv_filename14=\"./Dataset/c3_va3.csv\"\n",
    "\n",
    "\n",
    "df1=pd.read_csv(\"./Dataset/a1_raw.csv\")\n",
    "df2=pd.read_csv(\"./Dataset/a1_va3.csv\")\n",
    "df3=pd.read_csv(\"./Dataset/a2_raw.csv\" , skiprows=[1,2,3,4])\n",
    "df4=pd.read_csv(\"./Dataset/a2_va3.csv\")\n",
    "df5=pd.read_csv(\"./Dataset/a3_raw.csv\" , skiprows=[1,2,3,4])\n",
    "df6=pd.read_csv(\"./Dataset/a3_va3.csv\")\n",
    "df7=pd.read_csv(\"./Dataset/b1_raw.csv\" , skiprows=[1,2,3,4])\n",
    "df8=pd.read_csv(\"./Dataset/b1_va3.csv\")\n",
    "df9=pd.read_csv(\"./Dataset/b3_raw.csv\" , skiprows=[1,2,3,4])\n",
    "df10=pd.read_csv(csv_filename10)\n",
    "df11=pd.read_csv(csv_filename11 , skiprows=[1,2,3,4])\n",
    "df12=pd.read_csv(csv_filename12)\n",
    "df13=pd.read_csv(csv_filename13 , skiprows=[1,2,3,4])\n",
    "df14=pd.read_csv(csv_filename14)"
   ]
  },
  {
   "cell_type": "markdown",
   "metadata": {},
   "source": [
    "### Removing the timestamp and The Phase From The Unprocessed data"
   ]
  },
  {
   "cell_type": "code",
   "execution_count": 4,
   "metadata": {},
   "outputs": [],
   "source": [
    "df1.drop('timestamp',axis=1,inplace=True)\n",
    "df1.drop('phase',axis=1,inplace=True)\n",
    "df3.drop('timestamp',axis=1,inplace=True)\n",
    "df3.drop('phase',axis=1,inplace=True)\n",
    "df5.drop('timestamp',axis=1,inplace=True)\n",
    "df5.drop('phase',axis=1,inplace=True)\n",
    "df7.drop('timestamp',axis=1,inplace=True)\n",
    "df7.drop('phase',axis=1,inplace=True)\n",
    "df9.drop('timestamp',axis=1,inplace=True)\n",
    "df9.drop('phase',axis=1,inplace=True)\n",
    "df11.drop('timestamp',axis=1,inplace=True)\n",
    "df11.drop('phase',axis=1,inplace=True)\n",
    "df13.drop('timestamp',axis=1,inplace=True)\n",
    "df13.drop('phase',axis=1,inplace=True)"
   ]
  },
  {
   "cell_type": "markdown",
   "metadata": {},
   "source": []
  },
  {
   "cell_type": "markdown",
   "metadata": {},
   "source": [
    "### Visualising some of the data"
   ]
  },
  {
   "cell_type": "code",
   "execution_count": 5,
   "metadata": {},
   "outputs": [
    {
     "data": {
      "text/html": [
       "<div>\n",
       "<style scoped>\n",
       "    .dataframe tbody tr th:only-of-type {\n",
       "        vertical-align: middle;\n",
       "    }\n",
       "\n",
       "    .dataframe tbody tr th {\n",
       "        vertical-align: top;\n",
       "    }\n",
       "\n",
       "    .dataframe thead th {\n",
       "        text-align: right;\n",
       "    }\n",
       "</style>\n",
       "<table border=\"1\" class=\"dataframe\">\n",
       "  <thead>\n",
       "    <tr style=\"text-align: right;\">\n",
       "      <th></th>\n",
       "      <th>lhx</th>\n",
       "      <th>lhy</th>\n",
       "      <th>lhz</th>\n",
       "      <th>rhx</th>\n",
       "      <th>rhy</th>\n",
       "      <th>rhz</th>\n",
       "      <th>hx</th>\n",
       "      <th>hy</th>\n",
       "      <th>hz</th>\n",
       "      <th>sx</th>\n",
       "      <th>sy</th>\n",
       "      <th>sz</th>\n",
       "      <th>lwx</th>\n",
       "      <th>lwy</th>\n",
       "      <th>lwz</th>\n",
       "      <th>rwx</th>\n",
       "      <th>rwy</th>\n",
       "      <th>rwz</th>\n",
       "    </tr>\n",
       "  </thead>\n",
       "  <tbody>\n",
       "    <tr>\n",
       "      <th>0</th>\n",
       "      <td>5.347435</td>\n",
       "      <td>4.363681</td>\n",
       "      <td>1.501913</td>\n",
       "      <td>5.258967</td>\n",
       "      <td>4.319263</td>\n",
       "      <td>1.488703</td>\n",
       "      <td>5.037871</td>\n",
       "      <td>1.618295</td>\n",
       "      <td>1.778350</td>\n",
       "      <td>5.062803</td>\n",
       "      <td>4.229656</td>\n",
       "      <td>1.772577</td>\n",
       "      <td>4.972902</td>\n",
       "      <td>4.301065</td>\n",
       "      <td>1.564781</td>\n",
       "      <td>5.553945</td>\n",
       "      <td>4.370456</td>\n",
       "      <td>1.553521</td>\n",
       "    </tr>\n",
       "    <tr>\n",
       "      <th>1</th>\n",
       "      <td>4.869622</td>\n",
       "      <td>4.254210</td>\n",
       "      <td>1.556133</td>\n",
       "      <td>5.240113</td>\n",
       "      <td>4.346338</td>\n",
       "      <td>1.554309</td>\n",
       "      <td>5.037610</td>\n",
       "      <td>1.618370</td>\n",
       "      <td>1.778573</td>\n",
       "      <td>5.061430</td>\n",
       "      <td>4.228504</td>\n",
       "      <td>1.772859</td>\n",
       "      <td>4.974908</td>\n",
       "      <td>4.303656</td>\n",
       "      <td>1.565527</td>\n",
       "      <td>5.423875</td>\n",
       "      <td>4.303708</td>\n",
       "      <td>1.569942</td>\n",
       "    </tr>\n",
       "    <tr>\n",
       "      <th>2</th>\n",
       "      <td>5.357447</td>\n",
       "      <td>4.364039</td>\n",
       "      <td>1.500969</td>\n",
       "      <td>5.238928</td>\n",
       "      <td>4.347924</td>\n",
       "      <td>1.554150</td>\n",
       "      <td>5.037514</td>\n",
       "      <td>1.618298</td>\n",
       "      <td>1.778774</td>\n",
       "      <td>5.059245</td>\n",
       "      <td>4.228004</td>\n",
       "      <td>1.773568</td>\n",
       "      <td>4.981612</td>\n",
       "      <td>4.305363</td>\n",
       "      <td>1.563643</td>\n",
       "      <td>5.332170</td>\n",
       "      <td>4.438061</td>\n",
       "      <td>1.572841</td>\n",
       "    </tr>\n",
       "    <tr>\n",
       "      <th>3</th>\n",
       "      <td>4.942886</td>\n",
       "      <td>4.281878</td>\n",
       "      <td>1.546513</td>\n",
       "      <td>5.111436</td>\n",
       "      <td>4.229660</td>\n",
       "      <td>1.527091</td>\n",
       "      <td>5.037526</td>\n",
       "      <td>1.618612</td>\n",
       "      <td>1.778855</td>\n",
       "      <td>5.056475</td>\n",
       "      <td>4.226891</td>\n",
       "      <td>1.774519</td>\n",
       "      <td>4.987158</td>\n",
       "      <td>4.304063</td>\n",
       "      <td>1.565929</td>\n",
       "      <td>5.311104</td>\n",
       "      <td>4.396774</td>\n",
       "      <td>1.566368</td>\n",
       "    </tr>\n",
       "    <tr>\n",
       "      <th>4</th>\n",
       "      <td>5.003160</td>\n",
       "      <td>4.278530</td>\n",
       "      <td>1.542866</td>\n",
       "      <td>4.985812</td>\n",
       "      <td>4.182155</td>\n",
       "      <td>1.520330</td>\n",
       "      <td>5.037557</td>\n",
       "      <td>1.619226</td>\n",
       "      <td>1.778925</td>\n",
       "      <td>5.052367</td>\n",
       "      <td>4.225485</td>\n",
       "      <td>1.775536</td>\n",
       "      <td>4.983912</td>\n",
       "      <td>4.296833</td>\n",
       "      <td>1.569889</td>\n",
       "      <td>5.193762</td>\n",
       "      <td>4.335417</td>\n",
       "      <td>1.560144</td>\n",
       "    </tr>\n",
       "  </tbody>\n",
       "</table>\n",
       "</div>"
      ],
      "text/plain": [
       "        lhx       lhy       lhz       rhx       rhy       rhz        hx  \\\n",
       "0  5.347435  4.363681  1.501913  5.258967  4.319263  1.488703  5.037871   \n",
       "1  4.869622  4.254210  1.556133  5.240113  4.346338  1.554309  5.037610   \n",
       "2  5.357447  4.364039  1.500969  5.238928  4.347924  1.554150  5.037514   \n",
       "3  4.942886  4.281878  1.546513  5.111436  4.229660  1.527091  5.037526   \n",
       "4  5.003160  4.278530  1.542866  4.985812  4.182155  1.520330  5.037557   \n",
       "\n",
       "         hy        hz        sx        sy        sz       lwx       lwy  \\\n",
       "0  1.618295  1.778350  5.062803  4.229656  1.772577  4.972902  4.301065   \n",
       "1  1.618370  1.778573  5.061430  4.228504  1.772859  4.974908  4.303656   \n",
       "2  1.618298  1.778774  5.059245  4.228004  1.773568  4.981612  4.305363   \n",
       "3  1.618612  1.778855  5.056475  4.226891  1.774519  4.987158  4.304063   \n",
       "4  1.619226  1.778925  5.052367  4.225485  1.775536  4.983912  4.296833   \n",
       "\n",
       "        lwz       rwx       rwy       rwz  \n",
       "0  1.564781  5.553945  4.370456  1.553521  \n",
       "1  1.565527  5.423875  4.303708  1.569942  \n",
       "2  1.563643  5.332170  4.438061  1.572841  \n",
       "3  1.565929  5.311104  4.396774  1.566368  \n",
       "4  1.569889  5.193762  4.335417  1.560144  "
      ]
     },
     "execution_count": 5,
     "metadata": {},
     "output_type": "execute_result"
    }
   ],
   "source": [
    "df1.head()"
   ]
  },
  {
   "cell_type": "code",
   "execution_count": 6,
   "metadata": {},
   "outputs": [
    {
     "data": {
      "text/plain": [
       "(1747, 18)"
      ]
     },
     "execution_count": 6,
     "metadata": {},
     "output_type": "execute_result"
    }
   ],
   "source": [
    "df1.shape"
   ]
  },
  {
   "cell_type": "code",
   "execution_count": 7,
   "metadata": {},
   "outputs": [
    {
     "data": {
      "text/html": [
       "<div>\n",
       "<style scoped>\n",
       "    .dataframe tbody tr th:only-of-type {\n",
       "        vertical-align: middle;\n",
       "    }\n",
       "\n",
       "    .dataframe tbody tr th {\n",
       "        vertical-align: top;\n",
       "    }\n",
       "\n",
       "    .dataframe thead th {\n",
       "        text-align: right;\n",
       "    }\n",
       "</style>\n",
       "<table border=\"1\" class=\"dataframe\">\n",
       "  <thead>\n",
       "    <tr style=\"text-align: right;\">\n",
       "      <th></th>\n",
       "      <th>1</th>\n",
       "      <th>2</th>\n",
       "      <th>3</th>\n",
       "      <th>4</th>\n",
       "      <th>5</th>\n",
       "      <th>6</th>\n",
       "      <th>7</th>\n",
       "      <th>8</th>\n",
       "      <th>9</th>\n",
       "      <th>10</th>\n",
       "      <th>...</th>\n",
       "      <th>24</th>\n",
       "      <th>25</th>\n",
       "      <th>26</th>\n",
       "      <th>27</th>\n",
       "      <th>28</th>\n",
       "      <th>29</th>\n",
       "      <th>30</th>\n",
       "      <th>31</th>\n",
       "      <th>32</th>\n",
       "      <th>Phase</th>\n",
       "    </tr>\n",
       "  </thead>\n",
       "  <tbody>\n",
       "    <tr>\n",
       "      <th>0</th>\n",
       "      <td>-0.005009</td>\n",
       "      <td>-0.000964</td>\n",
       "      <td>0.000573</td>\n",
       "      <td>0.008623</td>\n",
       "      <td>0.005667</td>\n",
       "      <td>0.001302</td>\n",
       "      <td>-0.000631</td>\n",
       "      <td>0.000130</td>\n",
       "      <td>-0.000048</td>\n",
       "      <td>0.007762</td>\n",
       "      <td>...</td>\n",
       "      <td>1.880800e-04</td>\n",
       "      <td>0.005133</td>\n",
       "      <td>0.010400</td>\n",
       "      <td>0.000646</td>\n",
       "      <td>0.007871</td>\n",
       "      <td>0.004631</td>\n",
       "      <td>0.000963</td>\n",
       "      <td>0.000092</td>\n",
       "      <td>0.000438</td>\n",
       "      <td>D</td>\n",
       "    </tr>\n",
       "    <tr>\n",
       "      <th>1</th>\n",
       "      <td>0.004905</td>\n",
       "      <td>0.001209</td>\n",
       "      <td>-0.000649</td>\n",
       "      <td>0.004737</td>\n",
       "      <td>0.003166</td>\n",
       "      <td>0.000819</td>\n",
       "      <td>-0.000572</td>\n",
       "      <td>-0.000015</td>\n",
       "      <td>0.000023</td>\n",
       "      <td>0.002706</td>\n",
       "      <td>...</td>\n",
       "      <td>-7.500000e-07</td>\n",
       "      <td>0.005093</td>\n",
       "      <td>0.005756</td>\n",
       "      <td>0.000573</td>\n",
       "      <td>0.003459</td>\n",
       "      <td>0.000730</td>\n",
       "      <td>0.000332</td>\n",
       "      <td>0.000012</td>\n",
       "      <td>0.000433</td>\n",
       "      <td>D</td>\n",
       "    </tr>\n",
       "    <tr>\n",
       "      <th>2</th>\n",
       "      <td>-0.002393</td>\n",
       "      <td>-0.000216</td>\n",
       "      <td>0.000136</td>\n",
       "      <td>0.003028</td>\n",
       "      <td>0.001212</td>\n",
       "      <td>0.000336</td>\n",
       "      <td>-0.000449</td>\n",
       "      <td>0.000017</td>\n",
       "      <td>0.000047</td>\n",
       "      <td>0.002868</td>\n",
       "      <td>...</td>\n",
       "      <td>-3.920000e-05</td>\n",
       "      <td>0.002406</td>\n",
       "      <td>0.003279</td>\n",
       "      <td>0.000452</td>\n",
       "      <td>0.003261</td>\n",
       "      <td>0.002412</td>\n",
       "      <td>0.000852</td>\n",
       "      <td>0.000042</td>\n",
       "      <td>0.000202</td>\n",
       "      <td>D</td>\n",
       "    </tr>\n",
       "    <tr>\n",
       "      <th>3</th>\n",
       "      <td>-0.001394</td>\n",
       "      <td>-0.000242</td>\n",
       "      <td>0.000056</td>\n",
       "      <td>0.001182</td>\n",
       "      <td>0.000575</td>\n",
       "      <td>0.000225</td>\n",
       "      <td>-0.000479</td>\n",
       "      <td>-0.000050</td>\n",
       "      <td>0.000104</td>\n",
       "      <td>0.001171</td>\n",
       "      <td>...</td>\n",
       "      <td>-3.184000e-05</td>\n",
       "      <td>0.001416</td>\n",
       "      <td>0.001334</td>\n",
       "      <td>0.000493</td>\n",
       "      <td>0.001358</td>\n",
       "      <td>0.000313</td>\n",
       "      <td>0.000611</td>\n",
       "      <td>0.000029</td>\n",
       "      <td>0.000596</td>\n",
       "      <td>D</td>\n",
       "    </tr>\n",
       "    <tr>\n",
       "      <th>4</th>\n",
       "      <td>-0.000156</td>\n",
       "      <td>-0.000004</td>\n",
       "      <td>0.000023</td>\n",
       "      <td>0.001585</td>\n",
       "      <td>0.000630</td>\n",
       "      <td>0.000094</td>\n",
       "      <td>-0.000303</td>\n",
       "      <td>0.000097</td>\n",
       "      <td>0.000065</td>\n",
       "      <td>0.001579</td>\n",
       "      <td>...</td>\n",
       "      <td>-2.015000e-05</td>\n",
       "      <td>0.000158</td>\n",
       "      <td>0.001709</td>\n",
       "      <td>0.000325</td>\n",
       "      <td>0.001713</td>\n",
       "      <td>0.000203</td>\n",
       "      <td>0.000069</td>\n",
       "      <td>0.000038</td>\n",
       "      <td>0.000069</td>\n",
       "      <td>D</td>\n",
       "    </tr>\n",
       "  </tbody>\n",
       "</table>\n",
       "<p>5 rows × 33 columns</p>\n",
       "</div>"
      ],
      "text/plain": [
       "          1         2         3         4         5         6         7  \\\n",
       "0 -0.005009 -0.000964  0.000573  0.008623  0.005667  0.001302 -0.000631   \n",
       "1  0.004905  0.001209 -0.000649  0.004737  0.003166  0.000819 -0.000572   \n",
       "2 -0.002393 -0.000216  0.000136  0.003028  0.001212  0.000336 -0.000449   \n",
       "3 -0.001394 -0.000242  0.000056  0.001182  0.000575  0.000225 -0.000479   \n",
       "4 -0.000156 -0.000004  0.000023  0.001585  0.000630  0.000094 -0.000303   \n",
       "\n",
       "          8         9        10  ...              24        25        26  \\\n",
       "0  0.000130 -0.000048  0.007762  ...    1.880800e-04  0.005133  0.010400   \n",
       "1 -0.000015  0.000023  0.002706  ...   -7.500000e-07  0.005093  0.005756   \n",
       "2  0.000017  0.000047  0.002868  ...   -3.920000e-05  0.002406  0.003279   \n",
       "3 -0.000050  0.000104  0.001171  ...   -3.184000e-05  0.001416  0.001334   \n",
       "4  0.000097  0.000065  0.001579  ...   -2.015000e-05  0.000158  0.001709   \n",
       "\n",
       "         27        28        29        30        31        32  Phase  \n",
       "0  0.000646  0.007871  0.004631  0.000963  0.000092  0.000438      D  \n",
       "1  0.000573  0.003459  0.000730  0.000332  0.000012  0.000433      D  \n",
       "2  0.000452  0.003261  0.002412  0.000852  0.000042  0.000202      D  \n",
       "3  0.000493  0.001358  0.000313  0.000611  0.000029  0.000596      D  \n",
       "4  0.000325  0.001713  0.000203  0.000069  0.000038  0.000069      D  \n",
       "\n",
       "[5 rows x 33 columns]"
      ]
     },
     "execution_count": 7,
     "metadata": {},
     "output_type": "execute_result"
    }
   ],
   "source": [
    "df2.head()\n"
   ]
  },
  {
   "cell_type": "code",
   "execution_count": 8,
   "metadata": {},
   "outputs": [
    {
     "data": {
      "text/plain": [
       "(1743, 33)"
      ]
     },
     "execution_count": 8,
     "metadata": {},
     "output_type": "execute_result"
    }
   ],
   "source": [
    "df2.shape"
   ]
  },
  {
   "cell_type": "code",
   "execution_count": 9,
   "metadata": {},
   "outputs": [
    {
     "data": {
      "text/html": [
       "<div>\n",
       "<style scoped>\n",
       "    .dataframe tbody tr th:only-of-type {\n",
       "        vertical-align: middle;\n",
       "    }\n",
       "\n",
       "    .dataframe tbody tr th {\n",
       "        vertical-align: top;\n",
       "    }\n",
       "\n",
       "    .dataframe thead th {\n",
       "        text-align: right;\n",
       "    }\n",
       "</style>\n",
       "<table border=\"1\" class=\"dataframe\">\n",
       "  <thead>\n",
       "    <tr style=\"text-align: right;\">\n",
       "      <th></th>\n",
       "      <th>lhx</th>\n",
       "      <th>lhy</th>\n",
       "      <th>lhz</th>\n",
       "      <th>rhx</th>\n",
       "      <th>rhy</th>\n",
       "      <th>rhz</th>\n",
       "      <th>hx</th>\n",
       "      <th>hy</th>\n",
       "      <th>hz</th>\n",
       "      <th>sx</th>\n",
       "      <th>sy</th>\n",
       "      <th>sz</th>\n",
       "      <th>lwx</th>\n",
       "      <th>lwy</th>\n",
       "      <th>lwz</th>\n",
       "      <th>rwx</th>\n",
       "      <th>rwy</th>\n",
       "      <th>rwz</th>\n",
       "    </tr>\n",
       "  </thead>\n",
       "  <tbody>\n",
       "    <tr>\n",
       "      <th>0</th>\n",
       "      <td>4.497225</td>\n",
       "      <td>5.598363</td>\n",
       "      <td>1.684676</td>\n",
       "      <td>6.932706</td>\n",
       "      <td>5.420004</td>\n",
       "      <td>1.648139</td>\n",
       "      <td>5.532781</td>\n",
       "      <td>1.472957</td>\n",
       "      <td>1.781428</td>\n",
       "      <td>5.581297</td>\n",
       "      <td>4.110899</td>\n",
       "      <td>1.776406</td>\n",
       "      <td>4.550096</td>\n",
       "      <td>5.212202</td>\n",
       "      <td>1.688152</td>\n",
       "      <td>6.621651</td>\n",
       "      <td>5.184755</td>\n",
       "      <td>1.650331</td>\n",
       "    </tr>\n",
       "    <tr>\n",
       "      <th>1</th>\n",
       "      <td>4.504442</td>\n",
       "      <td>5.563369</td>\n",
       "      <td>1.682441</td>\n",
       "      <td>6.984883</td>\n",
       "      <td>5.338807</td>\n",
       "      <td>1.662477</td>\n",
       "      <td>5.535068</td>\n",
       "      <td>1.473257</td>\n",
       "      <td>1.780948</td>\n",
       "      <td>5.581542</td>\n",
       "      <td>4.111409</td>\n",
       "      <td>1.776078</td>\n",
       "      <td>4.534203</td>\n",
       "      <td>5.175910</td>\n",
       "      <td>1.689498</td>\n",
       "      <td>6.619938</td>\n",
       "      <td>5.200892</td>\n",
       "      <td>1.661059</td>\n",
       "    </tr>\n",
       "    <tr>\n",
       "      <th>2</th>\n",
       "      <td>4.501790</td>\n",
       "      <td>5.587282</td>\n",
       "      <td>1.681250</td>\n",
       "      <td>6.936526</td>\n",
       "      <td>5.400179</td>\n",
       "      <td>1.650723</td>\n",
       "      <td>5.536529</td>\n",
       "      <td>1.473684</td>\n",
       "      <td>1.780335</td>\n",
       "      <td>5.581291</td>\n",
       "      <td>4.111289</td>\n",
       "      <td>1.775740</td>\n",
       "      <td>4.530342</td>\n",
       "      <td>5.199273</td>\n",
       "      <td>1.687336</td>\n",
       "      <td>6.613071</td>\n",
       "      <td>5.181889</td>\n",
       "      <td>1.651599</td>\n",
       "    </tr>\n",
       "    <tr>\n",
       "      <th>3</th>\n",
       "      <td>4.481035</td>\n",
       "      <td>5.558424</td>\n",
       "      <td>1.678168</td>\n",
       "      <td>6.935569</td>\n",
       "      <td>5.403949</td>\n",
       "      <td>1.650177</td>\n",
       "      <td>5.536117</td>\n",
       "      <td>1.472946</td>\n",
       "      <td>1.780279</td>\n",
       "      <td>5.581693</td>\n",
       "      <td>4.109772</td>\n",
       "      <td>1.775356</td>\n",
       "      <td>4.523950</td>\n",
       "      <td>5.174112</td>\n",
       "      <td>1.688738</td>\n",
       "      <td>6.613035</td>\n",
       "      <td>5.184223</td>\n",
       "      <td>1.651119</td>\n",
       "    </tr>\n",
       "    <tr>\n",
       "      <th>4</th>\n",
       "      <td>4.490471</td>\n",
       "      <td>5.547697</td>\n",
       "      <td>1.677370</td>\n",
       "      <td>6.954857</td>\n",
       "      <td>5.384894</td>\n",
       "      <td>1.654895</td>\n",
       "      <td>5.537160</td>\n",
       "      <td>1.473327</td>\n",
       "      <td>1.779768</td>\n",
       "      <td>5.582080</td>\n",
       "      <td>4.108705</td>\n",
       "      <td>1.775060</td>\n",
       "      <td>4.521791</td>\n",
       "      <td>5.162915</td>\n",
       "      <td>1.688910</td>\n",
       "      <td>6.594951</td>\n",
       "      <td>5.234004</td>\n",
       "      <td>1.653260</td>\n",
       "    </tr>\n",
       "  </tbody>\n",
       "</table>\n",
       "</div>"
      ],
      "text/plain": [
       "        lhx       lhy       lhz       rhx       rhy       rhz        hx  \\\n",
       "0  4.497225  5.598363  1.684676  6.932706  5.420004  1.648139  5.532781   \n",
       "1  4.504442  5.563369  1.682441  6.984883  5.338807  1.662477  5.535068   \n",
       "2  4.501790  5.587282  1.681250  6.936526  5.400179  1.650723  5.536529   \n",
       "3  4.481035  5.558424  1.678168  6.935569  5.403949  1.650177  5.536117   \n",
       "4  4.490471  5.547697  1.677370  6.954857  5.384894  1.654895  5.537160   \n",
       "\n",
       "         hy        hz        sx        sy        sz       lwx       lwy  \\\n",
       "0  1.472957  1.781428  5.581297  4.110899  1.776406  4.550096  5.212202   \n",
       "1  1.473257  1.780948  5.581542  4.111409  1.776078  4.534203  5.175910   \n",
       "2  1.473684  1.780335  5.581291  4.111289  1.775740  4.530342  5.199273   \n",
       "3  1.472946  1.780279  5.581693  4.109772  1.775356  4.523950  5.174112   \n",
       "4  1.473327  1.779768  5.582080  4.108705  1.775060  4.521791  5.162915   \n",
       "\n",
       "        lwz       rwx       rwy       rwz  \n",
       "0  1.688152  6.621651  5.184755  1.650331  \n",
       "1  1.689498  6.619938  5.200892  1.661059  \n",
       "2  1.687336  6.613071  5.181889  1.651599  \n",
       "3  1.688738  6.613035  5.184223  1.651119  \n",
       "4  1.688910  6.594951  5.234004  1.653260  "
      ]
     },
     "execution_count": 9,
     "metadata": {},
     "output_type": "execute_result"
    }
   ],
   "source": [
    "df3.head()"
   ]
  },
  {
   "cell_type": "code",
   "execution_count": 10,
   "metadata": {},
   "outputs": [
    {
     "data": {
      "text/plain": [
       "(1260, 18)"
      ]
     },
     "execution_count": 10,
     "metadata": {},
     "output_type": "execute_result"
    }
   ],
   "source": [
    "df3.shape"
   ]
  },
  {
   "cell_type": "code",
   "execution_count": 11,
   "metadata": {},
   "outputs": [
    {
     "data": {
      "text/plain": [
       "Index(['lhx', 'lhy', 'lhz', 'rhx', 'rhy', 'rhz', 'hx', 'hy', 'hz', 'sx', 'sy',\n",
       "       'sz', 'lwx', 'lwy', 'lwz', 'rwx', 'rwy', 'rwz'],\n",
       "      dtype='object')"
      ]
     },
     "execution_count": 11,
     "metadata": {},
     "output_type": "execute_result"
    }
   ],
   "source": [
    "df1.columns"
   ]
  },
  {
   "cell_type": "markdown",
   "metadata": {},
   "source": [
    "### Renaming and Concatenating"
   ]
  },
  {
   "cell_type": "code",
   "execution_count": 12,
   "metadata": {},
   "outputs": [],
   "source": [
    "df2.rename(columns={'Phase': 'phase'}, inplace=True)\n",
    "df4.rename(columns={'Phase': 'phase'}, inplace=True)\n",
    "df6.rename(columns={'Phase': 'phase'}, inplace=True)\n",
    "df8.rename(columns={'Phase': 'phase'}, inplace=True)\n",
    "df10.rename(columns={'Phase': 'phase'}, inplace=True)\n",
    "df12.rename(columns={'Phase': 'phase'}, inplace=True)\n",
    "df14.rename(columns={'Phase': 'phase'}, inplace=True)"
   ]
  },
  {
   "cell_type": "code",
   "execution_count": 13,
   "metadata": {},
   "outputs": [],
   "source": [
    "p1 = pd.concat([df1,df2],axis=1)\n",
    "p2 = pd.concat([df3,df4],axis=1)\n",
    "p3 = pd.concat([df5,df6],axis=1)\n",
    "p4 = pd.concat([df7,df8],axis=1)\n",
    "p5 = pd.concat([df9,df10],axis=1)\n",
    "p6 = pd.concat([df11,df12],axis=1)\n",
    "p7 = pd.concat([df13,df14],axis=1)"
   ]
  },
  {
   "cell_type": "code",
   "execution_count": 14,
   "metadata": {},
   "outputs": [],
   "source": [
    "df= pd.concat([p1,p2,p3,p4,p5,p6,p7])"
   ]
  },
  {
   "cell_type": "code",
   "execution_count": 15,
   "metadata": {},
   "outputs": [],
   "source": [
    "### Encoding Phase Labels and Estimating number of instances of Differrent Label"
   ]
  },
  {
   "cell_type": "code",
   "execution_count": 16,
   "metadata": {},
   "outputs": [
    {
     "data": {
      "text/plain": [
       "array(['D', 'P', 'S', 'H', 'R', nan], dtype=object)"
      ]
     },
     "execution_count": 16,
     "metadata": {},
     "output_type": "execute_result"
    }
   ],
   "source": [
    "df.phase.unique()"
   ]
  },
  {
   "cell_type": "code",
   "execution_count": 17,
   "metadata": {},
   "outputs": [
    {
     "data": {
      "text/plain": [
       "array([0], dtype=int64)"
      ]
     },
     "execution_count": 17,
     "metadata": {},
     "output_type": "execute_result"
    }
   ],
   "source": [
    "from sklearn.preprocessing import LabelEncoder\n",
    "le = LabelEncoder()\n",
    "le.fit_transform(['phase'])"
   ]
  },
  {
   "cell_type": "code",
   "execution_count": 18,
   "metadata": {},
   "outputs": [
    {
     "data": {
      "text/html": [
       "<div>\n",
       "<style scoped>\n",
       "    .dataframe tbody tr th:only-of-type {\n",
       "        vertical-align: middle;\n",
       "    }\n",
       "\n",
       "    .dataframe tbody tr th {\n",
       "        vertical-align: top;\n",
       "    }\n",
       "\n",
       "    .dataframe thead th {\n",
       "        text-align: right;\n",
       "    }\n",
       "</style>\n",
       "<table border=\"1\" class=\"dataframe\">\n",
       "  <thead>\n",
       "    <tr style=\"text-align: right;\">\n",
       "      <th></th>\n",
       "      <th>lhx</th>\n",
       "      <th>lhy</th>\n",
       "      <th>lhz</th>\n",
       "      <th>rhx</th>\n",
       "      <th>rhy</th>\n",
       "      <th>rhz</th>\n",
       "      <th>hx</th>\n",
       "      <th>hy</th>\n",
       "      <th>hz</th>\n",
       "      <th>sx</th>\n",
       "      <th>...</th>\n",
       "      <th>23</th>\n",
       "      <th>24</th>\n",
       "      <th>25</th>\n",
       "      <th>26</th>\n",
       "      <th>27</th>\n",
       "      <th>28</th>\n",
       "      <th>29</th>\n",
       "      <th>30</th>\n",
       "      <th>31</th>\n",
       "      <th>32</th>\n",
       "    </tr>\n",
       "    <tr>\n",
       "      <th>phase</th>\n",
       "      <th></th>\n",
       "      <th></th>\n",
       "      <th></th>\n",
       "      <th></th>\n",
       "      <th></th>\n",
       "      <th></th>\n",
       "      <th></th>\n",
       "      <th></th>\n",
       "      <th></th>\n",
       "      <th></th>\n",
       "      <th></th>\n",
       "      <th></th>\n",
       "      <th></th>\n",
       "      <th></th>\n",
       "      <th></th>\n",
       "      <th></th>\n",
       "      <th></th>\n",
       "      <th></th>\n",
       "      <th></th>\n",
       "      <th></th>\n",
       "      <th></th>\n",
       "    </tr>\n",
       "  </thead>\n",
       "  <tbody>\n",
       "    <tr>\n",
       "      <th>D</th>\n",
       "      <td>2741</td>\n",
       "      <td>2741</td>\n",
       "      <td>2741</td>\n",
       "      <td>2741</td>\n",
       "      <td>2741</td>\n",
       "      <td>2741</td>\n",
       "      <td>2741</td>\n",
       "      <td>2741</td>\n",
       "      <td>2741</td>\n",
       "      <td>2741</td>\n",
       "      <td>...</td>\n",
       "      <td>2741</td>\n",
       "      <td>2741</td>\n",
       "      <td>2741</td>\n",
       "      <td>2741</td>\n",
       "      <td>2741</td>\n",
       "      <td>2741</td>\n",
       "      <td>2741</td>\n",
       "      <td>2741</td>\n",
       "      <td>2741</td>\n",
       "      <td>2741</td>\n",
       "    </tr>\n",
       "    <tr>\n",
       "      <th>H</th>\n",
       "      <td>998</td>\n",
       "      <td>998</td>\n",
       "      <td>998</td>\n",
       "      <td>998</td>\n",
       "      <td>998</td>\n",
       "      <td>998</td>\n",
       "      <td>998</td>\n",
       "      <td>998</td>\n",
       "      <td>998</td>\n",
       "      <td>998</td>\n",
       "      <td>...</td>\n",
       "      <td>998</td>\n",
       "      <td>998</td>\n",
       "      <td>998</td>\n",
       "      <td>998</td>\n",
       "      <td>998</td>\n",
       "      <td>998</td>\n",
       "      <td>998</td>\n",
       "      <td>998</td>\n",
       "      <td>998</td>\n",
       "      <td>998</td>\n",
       "    </tr>\n",
       "    <tr>\n",
       "      <th>P</th>\n",
       "      <td>2097</td>\n",
       "      <td>2097</td>\n",
       "      <td>2097</td>\n",
       "      <td>2097</td>\n",
       "      <td>2097</td>\n",
       "      <td>2097</td>\n",
       "      <td>2097</td>\n",
       "      <td>2097</td>\n",
       "      <td>2097</td>\n",
       "      <td>2097</td>\n",
       "      <td>...</td>\n",
       "      <td>2097</td>\n",
       "      <td>2097</td>\n",
       "      <td>2097</td>\n",
       "      <td>2097</td>\n",
       "      <td>2097</td>\n",
       "      <td>2097</td>\n",
       "      <td>2097</td>\n",
       "      <td>2097</td>\n",
       "      <td>2097</td>\n",
       "      <td>2097</td>\n",
       "    </tr>\n",
       "    <tr>\n",
       "      <th>R</th>\n",
       "      <td>1087</td>\n",
       "      <td>1087</td>\n",
       "      <td>1087</td>\n",
       "      <td>1087</td>\n",
       "      <td>1087</td>\n",
       "      <td>1087</td>\n",
       "      <td>1087</td>\n",
       "      <td>1087</td>\n",
       "      <td>1087</td>\n",
       "      <td>1087</td>\n",
       "      <td>...</td>\n",
       "      <td>1087</td>\n",
       "      <td>1087</td>\n",
       "      <td>1087</td>\n",
       "      <td>1087</td>\n",
       "      <td>1087</td>\n",
       "      <td>1087</td>\n",
       "      <td>1087</td>\n",
       "      <td>1087</td>\n",
       "      <td>1087</td>\n",
       "      <td>1087</td>\n",
       "    </tr>\n",
       "    <tr>\n",
       "      <th>S</th>\n",
       "      <td>2950</td>\n",
       "      <td>2950</td>\n",
       "      <td>2950</td>\n",
       "      <td>2950</td>\n",
       "      <td>2950</td>\n",
       "      <td>2950</td>\n",
       "      <td>2950</td>\n",
       "      <td>2950</td>\n",
       "      <td>2950</td>\n",
       "      <td>2950</td>\n",
       "      <td>...</td>\n",
       "      <td>2950</td>\n",
       "      <td>2950</td>\n",
       "      <td>2950</td>\n",
       "      <td>2950</td>\n",
       "      <td>2950</td>\n",
       "      <td>2950</td>\n",
       "      <td>2950</td>\n",
       "      <td>2950</td>\n",
       "      <td>2950</td>\n",
       "      <td>2950</td>\n",
       "    </tr>\n",
       "  </tbody>\n",
       "</table>\n",
       "<p>5 rows × 50 columns</p>\n",
       "</div>"
      ],
      "text/plain": [
       "        lhx   lhy   lhz   rhx   rhy   rhz    hx    hy    hz    sx  ...     23  \\\n",
       "phase                                                              ...          \n",
       "D      2741  2741  2741  2741  2741  2741  2741  2741  2741  2741  ...   2741   \n",
       "H       998   998   998   998   998   998   998   998   998   998  ...    998   \n",
       "P      2097  2097  2097  2097  2097  2097  2097  2097  2097  2097  ...   2097   \n",
       "R      1087  1087  1087  1087  1087  1087  1087  1087  1087  1087  ...   1087   \n",
       "S      2950  2950  2950  2950  2950  2950  2950  2950  2950  2950  ...   2950   \n",
       "\n",
       "         24    25    26    27    28    29    30    31    32  \n",
       "phase                                                        \n",
       "D      2741  2741  2741  2741  2741  2741  2741  2741  2741  \n",
       "H       998   998   998   998   998   998   998   998   998  \n",
       "P      2097  2097  2097  2097  2097  2097  2097  2097  2097  \n",
       "R      1087  1087  1087  1087  1087  1087  1087  1087  1087  \n",
       "S      2950  2950  2950  2950  2950  2950  2950  2950  2950  \n",
       "\n",
       "[5 rows x 50 columns]"
      ]
     },
     "execution_count": 18,
     "metadata": {},
     "output_type": "execute_result"
    }
   ],
   "source": [
    "df.groupby('phase').count()"
   ]
  },
  {
   "cell_type": "code",
   "execution_count": 19,
   "metadata": {},
   "outputs": [
    {
     "data": {
      "text/plain": [
       "array(['D', 'P', 'S', 'H', 'R', nan], dtype=object)"
      ]
     },
     "execution_count": 19,
     "metadata": {},
     "output_type": "execute_result"
    }
   ],
   "source": [
    "df.phase.unique()"
   ]
  },
  {
   "cell_type": "code",
   "execution_count": 20,
   "metadata": {},
   "outputs": [],
   "source": [
    "from sklearn import cluster\n",
    "from sklearn import metrics"
   ]
  },
  {
   "cell_type": "markdown",
   "metadata": {},
   "source": [
    "### Randomising the Data"
   ]
  },
  {
   "cell_type": "code",
   "execution_count": 21,
   "metadata": {},
   "outputs": [
    {
     "data": {
      "text/html": [
       "<div>\n",
       "<style scoped>\n",
       "    .dataframe tbody tr th:only-of-type {\n",
       "        vertical-align: middle;\n",
       "    }\n",
       "\n",
       "    .dataframe tbody tr th {\n",
       "        vertical-align: top;\n",
       "    }\n",
       "\n",
       "    .dataframe thead th {\n",
       "        text-align: right;\n",
       "    }\n",
       "</style>\n",
       "<table border=\"1\" class=\"dataframe\">\n",
       "  <thead>\n",
       "    <tr style=\"text-align: right;\">\n",
       "      <th></th>\n",
       "      <th>lhx</th>\n",
       "      <th>lhy</th>\n",
       "      <th>lhz</th>\n",
       "      <th>rhx</th>\n",
       "      <th>rhy</th>\n",
       "      <th>rhz</th>\n",
       "      <th>hx</th>\n",
       "      <th>hy</th>\n",
       "      <th>hz</th>\n",
       "      <th>sx</th>\n",
       "      <th>...</th>\n",
       "      <th>24</th>\n",
       "      <th>25</th>\n",
       "      <th>26</th>\n",
       "      <th>27</th>\n",
       "      <th>28</th>\n",
       "      <th>29</th>\n",
       "      <th>30</th>\n",
       "      <th>31</th>\n",
       "      <th>32</th>\n",
       "      <th>phase</th>\n",
       "    </tr>\n",
       "  </thead>\n",
       "  <tbody>\n",
       "    <tr>\n",
       "      <th>0</th>\n",
       "      <td>5.347435</td>\n",
       "      <td>4.363681</td>\n",
       "      <td>1.501913</td>\n",
       "      <td>5.258967</td>\n",
       "      <td>4.319263</td>\n",
       "      <td>1.488703</td>\n",
       "      <td>5.037871</td>\n",
       "      <td>1.618295</td>\n",
       "      <td>1.778350</td>\n",
       "      <td>5.062803</td>\n",
       "      <td>...</td>\n",
       "      <td>1.880800e-04</td>\n",
       "      <td>0.005133</td>\n",
       "      <td>0.010400</td>\n",
       "      <td>0.000646</td>\n",
       "      <td>0.007871</td>\n",
       "      <td>0.004631</td>\n",
       "      <td>0.000963</td>\n",
       "      <td>0.000092</td>\n",
       "      <td>0.000438</td>\n",
       "      <td>D</td>\n",
       "    </tr>\n",
       "    <tr>\n",
       "      <th>1</th>\n",
       "      <td>4.869622</td>\n",
       "      <td>4.254210</td>\n",
       "      <td>1.556133</td>\n",
       "      <td>5.240113</td>\n",
       "      <td>4.346338</td>\n",
       "      <td>1.554309</td>\n",
       "      <td>5.037610</td>\n",
       "      <td>1.618370</td>\n",
       "      <td>1.778573</td>\n",
       "      <td>5.061430</td>\n",
       "      <td>...</td>\n",
       "      <td>-7.500000e-07</td>\n",
       "      <td>0.005093</td>\n",
       "      <td>0.005756</td>\n",
       "      <td>0.000573</td>\n",
       "      <td>0.003459</td>\n",
       "      <td>0.000730</td>\n",
       "      <td>0.000332</td>\n",
       "      <td>0.000012</td>\n",
       "      <td>0.000433</td>\n",
       "      <td>D</td>\n",
       "    </tr>\n",
       "    <tr>\n",
       "      <th>2</th>\n",
       "      <td>5.357447</td>\n",
       "      <td>4.364039</td>\n",
       "      <td>1.500969</td>\n",
       "      <td>5.238928</td>\n",
       "      <td>4.347924</td>\n",
       "      <td>1.554150</td>\n",
       "      <td>5.037514</td>\n",
       "      <td>1.618298</td>\n",
       "      <td>1.778774</td>\n",
       "      <td>5.059245</td>\n",
       "      <td>...</td>\n",
       "      <td>-3.920000e-05</td>\n",
       "      <td>0.002406</td>\n",
       "      <td>0.003279</td>\n",
       "      <td>0.000452</td>\n",
       "      <td>0.003261</td>\n",
       "      <td>0.002412</td>\n",
       "      <td>0.000852</td>\n",
       "      <td>0.000042</td>\n",
       "      <td>0.000202</td>\n",
       "      <td>D</td>\n",
       "    </tr>\n",
       "    <tr>\n",
       "      <th>3</th>\n",
       "      <td>4.942886</td>\n",
       "      <td>4.281878</td>\n",
       "      <td>1.546513</td>\n",
       "      <td>5.111436</td>\n",
       "      <td>4.229660</td>\n",
       "      <td>1.527091</td>\n",
       "      <td>5.037526</td>\n",
       "      <td>1.618612</td>\n",
       "      <td>1.778855</td>\n",
       "      <td>5.056475</td>\n",
       "      <td>...</td>\n",
       "      <td>-3.184000e-05</td>\n",
       "      <td>0.001416</td>\n",
       "      <td>0.001334</td>\n",
       "      <td>0.000493</td>\n",
       "      <td>0.001358</td>\n",
       "      <td>0.000313</td>\n",
       "      <td>0.000611</td>\n",
       "      <td>0.000029</td>\n",
       "      <td>0.000596</td>\n",
       "      <td>D</td>\n",
       "    </tr>\n",
       "    <tr>\n",
       "      <th>4</th>\n",
       "      <td>5.003160</td>\n",
       "      <td>4.278530</td>\n",
       "      <td>1.542866</td>\n",
       "      <td>4.985812</td>\n",
       "      <td>4.182155</td>\n",
       "      <td>1.520330</td>\n",
       "      <td>5.037557</td>\n",
       "      <td>1.619226</td>\n",
       "      <td>1.778925</td>\n",
       "      <td>5.052367</td>\n",
       "      <td>...</td>\n",
       "      <td>-2.015000e-05</td>\n",
       "      <td>0.000158</td>\n",
       "      <td>0.001709</td>\n",
       "      <td>0.000325</td>\n",
       "      <td>0.001713</td>\n",
       "      <td>0.000203</td>\n",
       "      <td>0.000069</td>\n",
       "      <td>0.000038</td>\n",
       "      <td>0.000069</td>\n",
       "      <td>D</td>\n",
       "    </tr>\n",
       "  </tbody>\n",
       "</table>\n",
       "<p>5 rows × 51 columns</p>\n",
       "</div>"
      ],
      "text/plain": [
       "        lhx       lhy       lhz       rhx       rhy       rhz        hx  \\\n",
       "0  5.347435  4.363681  1.501913  5.258967  4.319263  1.488703  5.037871   \n",
       "1  4.869622  4.254210  1.556133  5.240113  4.346338  1.554309  5.037610   \n",
       "2  5.357447  4.364039  1.500969  5.238928  4.347924  1.554150  5.037514   \n",
       "3  4.942886  4.281878  1.546513  5.111436  4.229660  1.527091  5.037526   \n",
       "4  5.003160  4.278530  1.542866  4.985812  4.182155  1.520330  5.037557   \n",
       "\n",
       "         hy        hz        sx  ...              24        25        26  \\\n",
       "0  1.618295  1.778350  5.062803  ...    1.880800e-04  0.005133  0.010400   \n",
       "1  1.618370  1.778573  5.061430  ...   -7.500000e-07  0.005093  0.005756   \n",
       "2  1.618298  1.778774  5.059245  ...   -3.920000e-05  0.002406  0.003279   \n",
       "3  1.618612  1.778855  5.056475  ...   -3.184000e-05  0.001416  0.001334   \n",
       "4  1.619226  1.778925  5.052367  ...   -2.015000e-05  0.000158  0.001709   \n",
       "\n",
       "         27        28        29        30        31        32  phase  \n",
       "0  0.000646  0.007871  0.004631  0.000963  0.000092  0.000438      D  \n",
       "1  0.000573  0.003459  0.000730  0.000332  0.000012  0.000433      D  \n",
       "2  0.000452  0.003261  0.002412  0.000852  0.000042  0.000202      D  \n",
       "3  0.000493  0.001358  0.000313  0.000611  0.000029  0.000596      D  \n",
       "4  0.000325  0.001713  0.000203  0.000069  0.000038  0.000069      D  \n",
       "\n",
       "[5 rows x 51 columns]"
      ]
     },
     "execution_count": 21,
     "metadata": {},
     "output_type": "execute_result"
    }
   ],
   "source": [
    "df.head()"
   ]
  },
  {
   "cell_type": "code",
   "execution_count": 22,
   "metadata": {},
   "outputs": [],
   "source": [
    "df = df.sample(frac=1)"
   ]
  },
  {
   "cell_type": "code",
   "execution_count": 23,
   "metadata": {},
   "outputs": [
    {
     "data": {
      "text/html": [
       "<div>\n",
       "<style scoped>\n",
       "    .dataframe tbody tr th:only-of-type {\n",
       "        vertical-align: middle;\n",
       "    }\n",
       "\n",
       "    .dataframe tbody tr th {\n",
       "        vertical-align: top;\n",
       "    }\n",
       "\n",
       "    .dataframe thead th {\n",
       "        text-align: right;\n",
       "    }\n",
       "</style>\n",
       "<table border=\"1\" class=\"dataframe\">\n",
       "  <thead>\n",
       "    <tr style=\"text-align: right;\">\n",
       "      <th></th>\n",
       "      <th>lhx</th>\n",
       "      <th>lhy</th>\n",
       "      <th>lhz</th>\n",
       "      <th>rhx</th>\n",
       "      <th>rhy</th>\n",
       "      <th>rhz</th>\n",
       "      <th>hx</th>\n",
       "      <th>hy</th>\n",
       "      <th>hz</th>\n",
       "      <th>sx</th>\n",
       "      <th>...</th>\n",
       "      <th>24</th>\n",
       "      <th>25</th>\n",
       "      <th>26</th>\n",
       "      <th>27</th>\n",
       "      <th>28</th>\n",
       "      <th>29</th>\n",
       "      <th>30</th>\n",
       "      <th>31</th>\n",
       "      <th>32</th>\n",
       "      <th>phase</th>\n",
       "    </tr>\n",
       "  </thead>\n",
       "  <tbody>\n",
       "    <tr>\n",
       "      <th>1218</th>\n",
       "      <td>4.764366</td>\n",
       "      <td>4.758107</td>\n",
       "      <td>1.527041</td>\n",
       "      <td>5.832255</td>\n",
       "      <td>1.695244</td>\n",
       "      <td>1.479312</td>\n",
       "      <td>4.864746</td>\n",
       "      <td>1.669860</td>\n",
       "      <td>1.754635</td>\n",
       "      <td>5.013498</td>\n",
       "      <td>...</td>\n",
       "      <td>0.000250</td>\n",
       "      <td>0.000773</td>\n",
       "      <td>0.004576</td>\n",
       "      <td>0.000918</td>\n",
       "      <td>0.002705</td>\n",
       "      <td>0.000130</td>\n",
       "      <td>0.000758</td>\n",
       "      <td>0.000116</td>\n",
       "      <td>0.000493</td>\n",
       "      <td>S</td>\n",
       "    </tr>\n",
       "    <tr>\n",
       "      <th>412</th>\n",
       "      <td>5.750206</td>\n",
       "      <td>3.663193</td>\n",
       "      <td>1.493584</td>\n",
       "      <td>5.832759</td>\n",
       "      <td>4.075145</td>\n",
       "      <td>1.600360</td>\n",
       "      <td>5.715355</td>\n",
       "      <td>1.520002</td>\n",
       "      <td>1.769995</td>\n",
       "      <td>5.838268</td>\n",
       "      <td>...</td>\n",
       "      <td>-0.000389</td>\n",
       "      <td>0.001522</td>\n",
       "      <td>0.007340</td>\n",
       "      <td>0.000972</td>\n",
       "      <td>0.004571</td>\n",
       "      <td>0.000572</td>\n",
       "      <td>0.004011</td>\n",
       "      <td>0.000557</td>\n",
       "      <td>0.002834</td>\n",
       "      <td>D</td>\n",
       "    </tr>\n",
       "    <tr>\n",
       "      <th>570</th>\n",
       "      <td>3.697440</td>\n",
       "      <td>5.640391</td>\n",
       "      <td>1.800318</td>\n",
       "      <td>5.261732</td>\n",
       "      <td>5.677705</td>\n",
       "      <td>1.857761</td>\n",
       "      <td>4.395389</td>\n",
       "      <td>1.797457</td>\n",
       "      <td>1.954728</td>\n",
       "      <td>4.434109</td>\n",
       "      <td>...</td>\n",
       "      <td>-0.000160</td>\n",
       "      <td>0.015865</td>\n",
       "      <td>0.012069</td>\n",
       "      <td>0.013105</td>\n",
       "      <td>0.008280</td>\n",
       "      <td>0.000405</td>\n",
       "      <td>0.000843</td>\n",
       "      <td>0.000160</td>\n",
       "      <td>0.001281</td>\n",
       "      <td>R</td>\n",
       "    </tr>\n",
       "    <tr>\n",
       "      <th>355</th>\n",
       "      <td>1.144446</td>\n",
       "      <td>5.617790</td>\n",
       "      <td>2.160238</td>\n",
       "      <td>4.465017</td>\n",
       "      <td>5.222818</td>\n",
       "      <td>2.083808</td>\n",
       "      <td>2.848526</td>\n",
       "      <td>1.301179</td>\n",
       "      <td>2.225544</td>\n",
       "      <td>2.700957</td>\n",
       "      <td>...</td>\n",
       "      <td>0.000029</td>\n",
       "      <td>0.007980</td>\n",
       "      <td>0.004956</td>\n",
       "      <td>0.007829</td>\n",
       "      <td>0.004007</td>\n",
       "      <td>0.002066</td>\n",
       "      <td>0.001224</td>\n",
       "      <td>0.001838</td>\n",
       "      <td>0.000865</td>\n",
       "      <td>P</td>\n",
       "    </tr>\n",
       "    <tr>\n",
       "      <th>240</th>\n",
       "      <td>2.483320</td>\n",
       "      <td>3.655350</td>\n",
       "      <td>2.180530</td>\n",
       "      <td>2.606304</td>\n",
       "      <td>3.749948</td>\n",
       "      <td>2.259225</td>\n",
       "      <td>2.403414</td>\n",
       "      <td>0.843032</td>\n",
       "      <td>2.398576</td>\n",
       "      <td>2.433630</td>\n",
       "      <td>...</td>\n",
       "      <td>-0.000001</td>\n",
       "      <td>0.000190</td>\n",
       "      <td>0.001285</td>\n",
       "      <td>0.000496</td>\n",
       "      <td>0.000593</td>\n",
       "      <td>0.000005</td>\n",
       "      <td>0.000063</td>\n",
       "      <td>0.000002</td>\n",
       "      <td>0.000002</td>\n",
       "      <td>D</td>\n",
       "    </tr>\n",
       "  </tbody>\n",
       "</table>\n",
       "<p>5 rows × 51 columns</p>\n",
       "</div>"
      ],
      "text/plain": [
       "           lhx       lhy       lhz       rhx       rhy       rhz        hx  \\\n",
       "1218  4.764366  4.758107  1.527041  5.832255  1.695244  1.479312  4.864746   \n",
       "412   5.750206  3.663193  1.493584  5.832759  4.075145  1.600360  5.715355   \n",
       "570   3.697440  5.640391  1.800318  5.261732  5.677705  1.857761  4.395389   \n",
       "355   1.144446  5.617790  2.160238  4.465017  5.222818  2.083808  2.848526   \n",
       "240   2.483320  3.655350  2.180530  2.606304  3.749948  2.259225  2.403414   \n",
       "\n",
       "            hy        hz        sx  ...          24        25        26  \\\n",
       "1218  1.669860  1.754635  5.013498  ...    0.000250  0.000773  0.004576   \n",
       "412   1.520002  1.769995  5.838268  ...   -0.000389  0.001522  0.007340   \n",
       "570   1.797457  1.954728  4.434109  ...   -0.000160  0.015865  0.012069   \n",
       "355   1.301179  2.225544  2.700957  ...    0.000029  0.007980  0.004956   \n",
       "240   0.843032  2.398576  2.433630  ...   -0.000001  0.000190  0.001285   \n",
       "\n",
       "            27        28        29        30        31        32  phase  \n",
       "1218  0.000918  0.002705  0.000130  0.000758  0.000116  0.000493      S  \n",
       "412   0.000972  0.004571  0.000572  0.004011  0.000557  0.002834      D  \n",
       "570   0.013105  0.008280  0.000405  0.000843  0.000160  0.001281      R  \n",
       "355   0.007829  0.004007  0.002066  0.001224  0.001838  0.000865      P  \n",
       "240   0.000496  0.000593  0.000005  0.000063  0.000002  0.000002      D  \n",
       "\n",
       "[5 rows x 51 columns]"
      ]
     },
     "execution_count": 23,
     "metadata": {},
     "output_type": "execute_result"
    }
   ],
   "source": [
    "df.head()"
   ]
  },
  {
   "cell_type": "markdown",
   "metadata": {},
   "source": [
    "### Extracting Features and Splitting The Data Into Train and Test"
   ]
  },
  {
   "cell_type": "code",
   "execution_count": 24,
   "metadata": {},
   "outputs": [],
   "source": [
    "cols = list(df.columns)\n",
    "features = cols\n",
    "features.remove('phase')"
   ]
  },
  {
   "cell_type": "code",
   "execution_count": 25,
   "metadata": {},
   "outputs": [
    {
     "data": {
      "text/plain": [
       "50"
      ]
     },
     "execution_count": 25,
     "metadata": {},
     "output_type": "execute_result"
    }
   ],
   "source": [
    "len(features)"
   ]
  },
  {
   "cell_type": "code",
   "execution_count": 26,
   "metadata": {},
   "outputs": [
    {
     "data": {
      "text/plain": [
       "(9877, 50)"
      ]
     },
     "execution_count": 26,
     "metadata": {},
     "output_type": "execute_result"
    }
   ],
   "source": [
    "X = df[features]\n",
    "y = df['phase']\n",
    "X.shape"
   ]
  },
  {
   "cell_type": "code",
   "execution_count": 27,
   "metadata": {},
   "outputs": [],
   "source": [
    "# split dataset to 60% training and 40% testing\n",
    "X_train, X_test, y_train, y_test = model_selection.train_test_split(X, y, test_size=0.4, random_state=0)"
   ]
  },
  {
   "cell_type": "code",
   "execution_count": 28,
   "metadata": {},
   "outputs": [
    {
     "data": {
      "text/plain": [
       "(3951, 50)"
      ]
     },
     "execution_count": 28,
     "metadata": {},
     "output_type": "execute_result"
    }
   ],
   "source": [
    "X_test.shape"
   ]
  },
  {
   "cell_type": "markdown",
   "metadata": {},
   "source": [
    "### Filiing The nan Values By The Mean."
   ]
  },
  {
   "cell_type": "code",
   "execution_count": 29,
   "metadata": {},
   "outputs": [],
   "source": [
    "#Fliing the nan values by the mean.\n",
    "X_test = X_test.fillna(X_test.mean())\n",
    "X_train = X_train.fillna(X_train.mean())"
   ]
  },
  {
   "cell_type": "markdown",
   "metadata": {},
   "source": [
    "### Normalization"
   ]
  },
  {
   "cell_type": "code",
   "execution_count": 30,
   "metadata": {
    "scrolled": false
   },
   "outputs": [],
   "source": [
    "X_train = StandardScaler().fit_transform(X_train)\n",
    "X_test = StandardScaler().fit_transform(X_test)"
   ]
  },
  {
   "cell_type": "code",
   "execution_count": 31,
   "metadata": {},
   "outputs": [
    {
     "name": "stdout",
     "output_type": "stream",
     "text": [
      "(5926, 50) (5926,)\n"
     ]
    }
   ],
   "source": [
    "print(X_train.shape, y_train.shape)"
   ]
  },
  {
   "cell_type": "markdown",
   "metadata": {},
   "source": [
    "### K Means Clustering"
   ]
  },
  {
   "cell_type": "code",
   "execution_count": 97,
   "metadata": {},
   "outputs": [
    {
     "name": "stdout",
     "output_type": "stream",
     "text": [
      "(5926,)\n",
      "[2982 2369  486 ... 3603  791  354]\n"
     ]
    }
   ],
   "source": [
    "clf = cluster.KMeans(init='k-means++', n_clusters=3951, random_state=0)\n",
    "clf.fit(X_train)\n",
    "print(clf.labels_.shape)\n",
    "print(clf.labels_)"
   ]
  },
  {
   "cell_type": "code",
   "execution_count": 98,
   "metadata": {},
   "outputs": [],
   "source": [
    "# Predict clusters on testing data\n",
    "y_pred = clf.predict(X_test)"
   ]
  },
  {
   "cell_type": "code",
   "execution_count": 99,
   "metadata": {},
   "outputs": [
    {
     "data": {
      "text/plain": [
       "(3951,)"
      ]
     },
     "execution_count": 99,
     "metadata": {},
     "output_type": "execute_result"
    }
   ],
   "source": [
    "y_pred.shape"
   ]
  },
  {
   "cell_type": "code",
   "execution_count": 100,
   "metadata": {},
   "outputs": [
    {
     "data": {
      "text/plain": [
       "(3951,)"
      ]
     },
     "execution_count": 100,
     "metadata": {},
     "output_type": "execute_result"
    }
   ],
   "source": [
    "y_test.shape"
   ]
  },
  {
   "cell_type": "markdown",
   "metadata": {},
   "source": [
    "### Evaluation"
   ]
  },
  {
   "cell_type": "code",
   "execution_count": 101,
   "metadata": {},
   "outputs": [
    {
     "name": "stdout",
     "output_type": "stream",
     "text": [
      "Adjusted rand score:0.0044599\n",
      "Homogeneity score:0.86382 \n",
      "Completeness score: 0.18097 \n"
     ]
    }
   ],
   "source": [
    "print (\"Adjusted rand score:{:.5}\".format(metrics.adjusted_rand_score(y_test, y_pred)))\n",
    "print (\"Homogeneity score:{:.5} \".format(metrics.homogeneity_score(y_test, y_pred)))\n",
    "print (\"Completeness score: {:.5} \".format(metrics.completeness_score(y_test, y_pred)))\n"
   ]
  },
  {
   "cell_type": "code",
   "execution_count": null,
   "metadata": {},
   "outputs": [],
   "source": []
  },
  {
   "cell_type": "code",
   "execution_count": null,
   "metadata": {},
   "outputs": [],
   "source": []
  },
  {
   "cell_type": "code",
   "execution_count": null,
   "metadata": {},
   "outputs": [],
   "source": []
  },
  {
   "cell_type": "code",
   "execution_count": null,
   "metadata": {},
   "outputs": [],
   "source": []
  },
  {
   "cell_type": "code",
   "execution_count": null,
   "metadata": {},
   "outputs": [],
   "source": []
  },
  {
   "cell_type": "code",
   "execution_count": null,
   "metadata": {},
   "outputs": [],
   "source": []
  },
  {
   "cell_type": "code",
   "execution_count": null,
   "metadata": {},
   "outputs": [],
   "source": []
  },
  {
   "cell_type": "code",
   "execution_count": null,
   "metadata": {},
   "outputs": [],
   "source": []
  }
 ],
 "metadata": {
  "kernelspec": {
   "display_name": "Python 3",
   "language": "python",
   "name": "python3"
  },
  "language_info": {
   "codemirror_mode": {
    "name": "ipython",
    "version": 3
   },
   "file_extension": ".py",
   "mimetype": "text/x-python",
   "name": "python",
   "nbconvert_exporter": "python",
   "pygments_lexer": "ipython3",
   "version": "3.7.0"
  }
 },
 "nbformat": 4,
 "nbformat_minor": 2
}
